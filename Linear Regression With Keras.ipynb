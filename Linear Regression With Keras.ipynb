{
 "cells": [
  {
   "cell_type": "code",
   "execution_count": 1,
   "metadata": {},
   "outputs": [
    {
     "name": "stderr",
     "output_type": "stream",
     "text": [
      "C:\\Users\\Shahzad Ahsan\\Anaconda3\\lib\\site-packages\\h5py\\__init__.py:36: FutureWarning: Conversion of the second argument of issubdtype from `float` to `np.floating` is deprecated. In future, it will be treated as `np.float64 == np.dtype(float).type`.\n",
      "  from ._conv import register_converters as _register_converters\n",
      "Using TensorFlow backend.\n"
     ]
    }
   ],
   "source": [
    "from keras.models import Sequential\n",
    "from keras.layers import Dense \n",
    "from keras.optimizers import Adam, SGD\n",
    "\n",
    "import matplotlib.pyplot as plt\n",
    "import numpy as np\n",
    "import pandas as pd"
   ]
  },
  {
   "cell_type": "code",
   "execution_count": 2,
   "metadata": {},
   "outputs": [],
   "source": [
    "df=pd.read_csv('./data/weight-height.csv')"
   ]
  },
  {
   "cell_type": "code",
   "execution_count": 3,
   "metadata": {},
   "outputs": [],
   "source": [
    "X=df[['Height']].values\n",
    "y_true=df[['Weight']].values"
   ]
  },
  {
   "cell_type": "code",
   "execution_count": 4,
   "metadata": {},
   "outputs": [
    {
     "data": {
      "text/plain": [
       "array([[73.84701702],\n",
       "       [68.78190405],\n",
       "       [74.11010539],\n",
       "       ...,\n",
       "       [63.86799221],\n",
       "       [69.03424313],\n",
       "       [61.94424588]])"
      ]
     },
     "execution_count": 4,
     "metadata": {},
     "output_type": "execute_result"
    }
   ],
   "source": [
    "X"
   ]
  },
  {
   "cell_type": "code",
   "execution_count": 5,
   "metadata": {},
   "outputs": [],
   "source": [
    "model = Sequential()\n",
    "model.add(Dense(1, input_shape=(1,)))"
   ]
  },
  {
   "cell_type": "code",
   "execution_count": 6,
   "metadata": {},
   "outputs": [
    {
     "name": "stdout",
     "output_type": "stream",
     "text": [
      "_________________________________________________________________\n",
      "Layer (type)                 Output Shape              Param #   \n",
      "=================================================================\n",
      "dense_1 (Dense)              (None, 1)                 2         \n",
      "=================================================================\n",
      "Total params: 2\n",
      "Trainable params: 2\n",
      "Non-trainable params: 0\n",
      "_________________________________________________________________\n"
     ]
    }
   ],
   "source": [
    "model.summary()"
   ]
  },
  {
   "cell_type": "code",
   "execution_count": 7,
   "metadata": {},
   "outputs": [],
   "source": [
    "model.compile(Adam(lr=0.8), 'mean_squared_error')"
   ]
  },
  {
   "cell_type": "code",
   "execution_count": 8,
   "metadata": {},
   "outputs": [
    {
     "name": "stdout",
     "output_type": "stream",
     "text": [
      "Epoch 1/40\n",
      "10000/10000 [==============================] - 2s 190us/step - loss: 1364.4735\n",
      "Epoch 2/40\n",
      "10000/10000 [==============================] - 0s 38us/step - loss: 564.3517\n",
      "Epoch 3/40\n",
      "10000/10000 [==============================] - 0s 38us/step - loss: 533.7715\n",
      "Epoch 4/40\n",
      "10000/10000 [==============================] - 0s 41us/step - loss: 493.0057\n",
      "Epoch 5/40\n",
      "10000/10000 [==============================] - 0s 39us/step - loss: 468.4898\n",
      "Epoch 6/40\n",
      "10000/10000 [==============================] - 0s 41us/step - loss: 420.8132\n",
      "Epoch 7/40\n",
      "10000/10000 [==============================] - 0s 41us/step - loss: 393.6374\n",
      "Epoch 8/40\n",
      "10000/10000 [==============================] - 0s 38us/step - loss: 350.1362\n",
      "Epoch 9/40\n",
      "10000/10000 [==============================] - 0s 40us/step - loss: 318.3079\n",
      "Epoch 10/40\n",
      "10000/10000 [==============================] - 0s 40us/step - loss: 290.1227\n",
      "Epoch 11/40\n",
      "10000/10000 [==============================] - 0s 38us/step - loss: 272.9355\n",
      "Epoch 12/40\n",
      "10000/10000 [==============================] - 0s 38us/step - loss: 258.4910\n",
      "Epoch 13/40\n",
      "10000/10000 [==============================] - 0s 38us/step - loss: 243.5664\n",
      "Epoch 14/40\n",
      "10000/10000 [==============================] - 0s 39us/step - loss: 233.6960\n",
      "Epoch 15/40\n",
      "10000/10000 [==============================] - 0s 42us/step - loss: 211.2207\n",
      "Epoch 16/40\n",
      "10000/10000 [==============================] - 0s 41us/step - loss: 211.5527\n",
      "Epoch 17/40\n",
      "10000/10000 [==============================] - 0s 38us/step - loss: 192.0148\n",
      "Epoch 18/40\n",
      "10000/10000 [==============================] - 0s 38us/step - loss: 196.1771\n",
      "Epoch 19/40\n",
      "10000/10000 [==============================] - 0s 42us/step - loss: 181.8078\n",
      "Epoch 20/40\n",
      "10000/10000 [==============================] - 0s 38us/step - loss: 171.1856\n",
      "Epoch 21/40\n",
      "10000/10000 [==============================] - 0s 38us/step - loss: 183.7220\n",
      "Epoch 22/40\n",
      "10000/10000 [==============================] - 0s 38us/step - loss: 176.0685\n",
      "Epoch 23/40\n",
      "10000/10000 [==============================] - 0s 38us/step - loss: 199.6331\n",
      "Epoch 24/40\n",
      "10000/10000 [==============================] - 0s 38us/step - loss: 174.5074\n",
      "Epoch 25/40\n",
      "10000/10000 [==============================] - 0s 37us/step - loss: 170.3229\n",
      "Epoch 26/40\n",
      "10000/10000 [==============================] - 0s 39us/step - loss: 185.2352\n",
      "Epoch 27/40\n",
      "10000/10000 [==============================] - 0s 39us/step - loss: 180.1027\n",
      "Epoch 28/40\n",
      "10000/10000 [==============================] - 0s 39us/step - loss: 199.3649\n",
      "Epoch 29/40\n",
      "10000/10000 [==============================] - 0s 39us/step - loss: 182.4585\n",
      "Epoch 30/40\n",
      "10000/10000 [==============================] - 0s 31us/step - loss: 178.2327\n",
      "Epoch 31/40\n",
      "10000/10000 [==============================] - 0s 36us/step - loss: 173.9673\n",
      "Epoch 32/40\n",
      "10000/10000 [==============================] - 0s 38us/step - loss: 174.9029\n",
      "Epoch 33/40\n",
      "10000/10000 [==============================] - 0s 37us/step - loss: 170.5990\n",
      "Epoch 34/40\n",
      "10000/10000 [==============================] - 0s 38us/step - loss: 177.0275\n",
      "Epoch 35/40\n",
      "10000/10000 [==============================] - 0s 38us/step - loss: 170.5428\n",
      "Epoch 36/40\n",
      "10000/10000 [==============================] - 0s 38us/step - loss: 185.0540\n",
      "Epoch 37/40\n",
      "10000/10000 [==============================] - 0s 39us/step - loss: 191.8255\n",
      "Epoch 38/40\n",
      "10000/10000 [==============================] - 0s 38us/step - loss: 170.0949\n",
      "Epoch 39/40\n",
      "10000/10000 [==============================] - 0s 38us/step - loss: 170.2113\n",
      "Epoch 40/40\n",
      "10000/10000 [==============================] - 0s 38us/step - loss: 171.3644\n"
     ]
    },
    {
     "data": {
      "text/plain": [
       "<keras.callbacks.History at 0x1ec86e8dac8>"
      ]
     },
     "execution_count": 8,
     "metadata": {},
     "output_type": "execute_result"
    }
   ],
   "source": [
    "model.fit(X,y_true, epochs=40, verbose=1)"
   ]
  },
  {
   "cell_type": "code",
   "execution_count": 9,
   "metadata": {},
   "outputs": [],
   "source": [
    "y_pred=model.predict(X)"
   ]
  },
  {
   "cell_type": "code",
   "execution_count": 10,
   "metadata": {},
   "outputs": [
    {
     "data": {
      "text/plain": [
       "[<matplotlib.lines.Line2D at 0x1ec87216fd0>]"
      ]
     },
     "execution_count": 10,
     "metadata": {},
     "output_type": "execute_result"
    },
    {
     "data": {
      "image/png": "[encoded data removed]",
      "text/plain": [
       "<Figure size 432x288 with 1 Axes>"
      ]
     },
     "metadata": {},
     "output_type": "display_data"
    }
   ],
   "source": [
    "df.plot(kind='scatter',\n",
    "       x='Height',\n",
    "       y='Weight', title='Weight and Height in adults')\n",
    "plt.plot(X, y_pred, color='red', linewidth=3)"
   ]
  },
  {
   "cell_type": "code",
   "execution_count": 11,
   "metadata": {},
   "outputs": [],
   "source": [
    "w,b=model.get_weights()"
   ]
  },
  {
   "cell_type": "code",
   "execution_count": 12,
   "metadata": {},
   "outputs": [
    {
     "data": {
      "text/plain": [
       "array([[7.7476726]], dtype=float32)"
      ]
     },
     "execution_count": 12,
     "metadata": {},
     "output_type": "execute_result"
    }
   ],
   "source": [
    "w"
   ]
  },
  {
   "cell_type": "code",
   "execution_count": 13,
   "metadata": {},
   "outputs": [
    {
     "data": {
      "text/plain": [
       "array([-347.9499], dtype=float32)"
      ]
     },
     "execution_count": 13,
     "metadata": {},
     "output_type": "execute_result"
    }
   ],
   "source": [
    "b"
   ]
  },
  {
   "cell_type": "code",
   "execution_count": null,
   "metadata": {},
   "outputs": [],
   "source": []
  }
 ],
 "metadata": {
  "kernelspec": {
   "display_name": "Python 3",
   "language": "python",
   "name": "python3"
  },
  "language_info": {
   "codemirror_mode": {
    "name": "ipython",
    "version": 3
   },
   "file_extension": ".py",
   "mimetype": "text/x-python",
   "name": "python",
   "nbconvert_exporter": "python",
   "pygments_lexer": "ipython3",
   "version": "3.6.4"
  }
 },
 "nbformat": 4,
 "nbformat_minor": 2
}
